{
  "nbformat": 4,
  "nbformat_minor": 0,
  "metadata": {
    "colab": {
      "provenance": []
    },
    "kernelspec": {
      "name": "python3",
      "display_name": "Python 3"
    },
    "language_info": {
      "name": "python"
    }
  },
  "cells": [
    {
      "cell_type": "code",
      "source": [
        "!pip install python-docx"
      ],
      "metadata": {
        "colab": {
          "base_uri": "https://localhost:8080/"
        },
        "id": "af5gifE6sx3l",
        "outputId": "14566974-e38e-488d-bacc-26f6b51a90d2"
      },
      "execution_count": null,
      "outputs": [
        {
          "output_type": "stream",
          "name": "stdout",
          "text": [
            "Collecting python-docx\n",
            "  Downloading python_docx-1.1.2-py3-none-any.whl (244 kB)\n",
            "\u001b[2K     \u001b[90m━━━━━━━━━━━━━━━━━━━━━━━━━━━━━━━━━━━━━━━━\u001b[0m \u001b[32m244.3/244.3 kB\u001b[0m \u001b[31m5.1 MB/s\u001b[0m eta \u001b[36m0:00:00\u001b[0m\n",
            "\u001b[?25hRequirement already satisfied: lxml>=3.1.0 in /usr/local/lib/python3.10/dist-packages (from python-docx) (4.9.4)\n",
            "Requirement already satisfied: typing-extensions>=4.9.0 in /usr/local/lib/python3.10/dist-packages (from python-docx) (4.12.2)\n",
            "Installing collected packages: python-docx\n",
            "Successfully installed python-docx-1.1.2\n"
          ]
        }
      ]
    },
    {
      "cell_type": "code",
      "source": [
        "from docx import Document\n",
        "from docx.shared import Pt, RGBColor\n",
        "from docx.oxml import OxmlElement\n",
        "\n",
        "# Function to add bold formatting to a run\n",
        "def add_bold(run):\n",
        "    run.font.bold = True\n",
        "\n",
        "# Function to append LLM output to an existing DOC file\n",
        "def append_llm_output_to_doc(existing_doc_filename, llm_output, title):\n",
        "    # Load existing document\n",
        "    doc = Document(existing_doc_filename)\n",
        "\n",
        "    # Add title to the document with black color\n",
        "    title_paragraph = doc.add_heading(title, level=1)\n",
        "    title_run = title_paragraph.runs[0]\n",
        "    title_run.font.color.rgb = RGBColor(0, 0, 0)  # RGB color for black\n",
        "    doc.add_paragraph()  # Add an empty paragraph for spacing\n",
        "\n",
        "    # Iterate through each dictionary in the LLM output\n",
        "    for idx, entry in enumerate(llm_output, start=1):\n",
        "        question_key = f'Q{idx}'\n",
        "        question = entry[question_key]\n",
        "        answer = entry['Ans']\n",
        "\n",
        "        # Add q1: my question and ans: my answer format to the document without quotes\n",
        "        question_paragraph = doc.add_paragraph()\n",
        "        question_run = question_paragraph.add_run(f\"Q{idx}: \")\n",
        "        add_bold(question_run)\n",
        "        question_run.add_text(question)\n",
        "\n",
        "        doc.add_paragraph(f\"A: {answer}\")\n",
        "        doc.add_paragraph()  # Add an empty paragraph for spacing\n",
        "\n",
        "    # Save the updated document\n",
        "    doc.save(existing_doc_filename)\n",
        "\n",
        "# Example LLM output (list of dictionaries)\n",
        "llm_output = [\n",
        "    {'Q1': 'How can I book Ranchi to Guwahati train tickets with Adani One?', 'Ans': 'You can easily book Ranchi to Guwahati train tickets with Adani One through their website or mobile app.'},\n",
        "    {'Q2': 'Are there any special offers on train tickets with Adani One?', 'Ans': 'Adani One frequently offers special discounts and promotions on train tickets, so make sure to check their website for the latest deals.'},\n",
        "    {'Q3': 'How can I find the latest train time table for this route?', 'Ans': 'You can find the latest train timetable for the Mumbai to Kolkata route on the Adani One website or by contacting their customer service.'},\n",
        "]\n",
        "\n",
        "# Existing DOC file to append to\n",
        "existing_doc_filename = \"/content/output.docx\"\n",
        "\n",
        "# Title for the document\n",
        "doc_title = \"Adani One Train Tickets FAQs\"\n",
        "\n",
        "# Append the LLM output to the existing DOC file with title, formatted questions and answers, and black title color\n",
        "append_llm_output_to_doc(existing_doc_filename, llm_output, doc_title)\n",
        "\n"
      ],
      "metadata": {
        "id": "GsrhieuC5118"
      },
      "execution_count": null,
      "outputs": []
    },
    {
      "cell_type": "code",
      "source": [],
      "metadata": {
        "id": "jDniNGE76oU7"
      },
      "execution_count": null,
      "outputs": []
    }
  ]
}